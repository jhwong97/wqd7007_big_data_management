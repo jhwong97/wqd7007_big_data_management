{
 "cells": [
  {
   "cell_type": "code",
   "execution_count": 1,
   "id": "3f5f1375-7f92-4358-83bd-c5aec16a48d1",
   "metadata": {
    "tags": []
   },
   "outputs": [],
   "source": [
    "import time\n",
    "import numpy as np\n",
    "import random"
   ]
  },
  {
   "cell_type": "code",
   "execution_count": 40,
   "id": "98876c40-2d02-4ac9-a4f2-62feaef33fe5",
   "metadata": {
    "tags": []
   },
   "outputs": [
    {
     "name": "stdout",
     "output_type": "stream",
     "text": [
      "The number 100 is found in the random array.\n",
      "Processing time: 0.00011420 seconds for random array.\n",
      "\n",
      "The number 100 is found in the sorted array.\n",
      "Processing time: 0.00005380 seconds for sorted array.\n"
     ]
    }
   ],
   "source": [
    "# Question 1\n",
    "# Generate an array of 100 random numbers\n",
    "random_array = [random.randint(1, 1000) for i in range(1000)]\n",
    "# Start the timer\n",
    "start_time = time.perf_counter()\n",
    "\n",
    "# Search for the element 100 in the array\n",
    "if 100 in random_array:\n",
    "    print(\"The number 100 is found in the random array.\")\n",
    "else:\n",
    "    print(\"The number 100 is not found in the random array.\")\n",
    "\n",
    "# Calculate the processing time\n",
    "end_time = time.perf_counter()\n",
    "processing_time = end_time - start_time\n",
    "print(f\"Processing time: {processing_time:.8f} seconds for random array.\\n\")\n",
    "\n",
    "# Question 2\n",
    "# Sort the random_array\n",
    "sort_array = sorted(random_array)\n",
    "# Start the timer\n",
    "start_time = time.perf_counter()\n",
    "\n",
    "# Search for the element 100 in the array\n",
    "if 900 in sort_array:\n",
    "    print(\"The number 100 is found in the sorted array.\")\n",
    "else:\n",
    "    print(\"The number 100 is not found in the sorted array.\")\n",
    "\n",
    "# Calculate the processing time\n",
    "end_time = time.perf_counter()\n",
    "processing_time = end_time - start_time\n",
    "print(f\"Processing time: {processing_time:.8f} seconds for sorted array.\")"
   ]
  },
  {
   "cell_type": "code",
   "execution_count": 41,
   "id": "b98e79ab-9c8e-462d-8de6-d7726150f1c7",
   "metadata": {
    "tags": []
   },
   "outputs": [],
   "source": [
    "from PIL import Image"
   ]
  },
  {
   "cell_type": "code",
   "execution_count": 49,
   "id": "57edb34e-6dfc-40da-9a33-d0fd73c53f57",
   "metadata": {
    "tags": []
   },
   "outputs": [
    {
     "name": "stdout",
     "output_type": "stream",
     "text": [
      "The dominant colour is (6, 6, 8) with 438460.\n"
     ]
    }
   ],
   "source": [
    "# Question 4\n",
    "\n",
    "image = Image.open(\"D:\\OneDrive\\Pictures\\Wallpaper\\pawel-czerwinski-NTYYL9Eb9y8-unsplash.jpg\").convert(\"RGB\")\n",
    "\n",
    "# Resolution of the image\n",
    "width, height = image.size\n",
    "\n",
    "# Dictionary to store the counts of each color\n",
    "colour_counts = {}\n",
    "\n",
    "for x in range(width):\n",
    "    for y in range(height):\n",
    "        colour = tuple(image.getpixel((x,y)))\n",
    "        if colour in colour_counts:\n",
    "            colour_counts[colour] += 1\n",
    "        else:\n",
    "            colour_counts[colour] = 1\n",
    "\n",
    "# Find the dominant colour\n",
    "dominant_colour = max(colour_counts, key=colour_counts.get)\n",
    "print(f'The dominant colour is {dominant_colour} with {colour_counts[dominant_colour]}.')"
   ]
  },
  {
   "cell_type": "code",
   "execution_count": null,
   "id": "534d1d4d-80f9-459b-873c-07524329d2fd",
   "metadata": {},
   "outputs": [],
   "source": []
  }
 ],
 "metadata": {
  "kernelspec": {
   "display_name": "Python 3 (ipykernel)",
   "language": "python",
   "name": "python3"
  },
  "language_info": {
   "codemirror_mode": {
    "name": "ipython",
    "version": 3
   },
   "file_extension": ".py",
   "mimetype": "text/x-python",
   "name": "python",
   "nbconvert_exporter": "python",
   "pygments_lexer": "ipython3",
   "version": "3.11.3"
  }
 },
 "nbformat": 4,
 "nbformat_minor": 5
}
